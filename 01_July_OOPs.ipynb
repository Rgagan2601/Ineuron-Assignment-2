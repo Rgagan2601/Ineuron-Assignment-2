{
 "cells": [
  {
   "cell_type": "markdown",
   "metadata": {},
   "source": [
    "1. What is the primary goal of Object-Oriented Programming (OOP)?"
   ]
  },
  {
   "cell_type": "markdown",
   "metadata": {},
   "source": [
    "The primary goal of Object-Oriented Programming (OOP) is to organize code in a way that binds data with the functions that operate on that data, creating \"objects.\" This promotes code organization, reusability, and maintainability, making complex software easier to manage."
   ]
  },
  {
   "cell_type": "markdown",
   "metadata": {},
   "source": [
    "2. What is an object in Python?"
   ]
  },
  {
   "cell_type": "markdown",
   "metadata": {},
   "source": [
    "In Python, an object is a self-contained entity that consists of data (attributes) and functions (methods) that operate on that data. Everything in Python is an object, including numbers, strings, lists, and user-defined types. "
   ]
  },
  {
   "cell_type": "markdown",
   "metadata": {},
   "source": [
    "3. What is a class in Python?"
   ]
  },
  {
   "cell_type": "markdown",
   "metadata": {},
   "source": [
    "A class in Python is like a blueprint or template for creating objects. It defines the common attributes (data) and methods (functions) that objects of that class will have."
   ]
  },
  {
   "cell_type": "markdown",
   "metadata": {},
   "source": [
    "4. What are attributes and methods in a class?"
   ]
  },
  {
   "cell_type": "markdown",
   "metadata": {},
   "source": [
    "Attributes are variables that store data associated with objects of that class. They represent the object's characteristics or properties.\n",
    "Methods are functions defined within the class that define the actions or behaviors that objects of that class can perform. They operate on the object's attributes."
   ]
  },
  {
   "cell_type": "markdown",
   "metadata": {},
   "source": [
    "5. What is the difference between class variables and instance variables in Python?"
   ]
  },
  {
   "cell_type": "markdown",
   "metadata": {},
   "source": [
    "Class variables are shared by all instances (objects) of a class. Changing a class variable affects all instances.\n",
    "Instance variables are unique to each instance. Each object has its own copy of instance variables."
   ]
  },
  {
   "cell_type": "markdown",
   "metadata": {},
   "source": [
    "6. What is the purpose of the self parameter in Python class methods?"
   ]
  },
  {
   "cell_type": "markdown",
   "metadata": {},
   "source": [
    "The self parameter in Python class methods is a reference to the current instance of the class. It's used to access and modify the instance's attributes and call other methods of the same instance within the method.Without self, the method wouldn't know which object it's operating on."
   ]
  },
  {
   "cell_type": "markdown",
   "metadata": {},
   "source": [
    "7. For a library management system, you have to design the \"Book\" class with OOP\n",
    "principles in mind. The “Book” class will have following attributes:\n",
    "a. title: Represents the title of the book.\n",
    "b. author: Represents the author(s) of the book.\n",
    "c. isbn: Represents the ISBN (International Standard Book Number) of the book.\n",
    "d. publication_year: Represents the year of publication of the book.\n",
    "e. available_copies: Represents the number of copies available for checkout.\n",
    "The class will also include the following methods:\n",
    "a. check_out(self): Decrements the available copies by one if there are copies\n",
    "available for checkout.\n",
    "b. return_book(self): Increments the available copies by one when a book is\n",
    "returned.\n",
    "c. display_book_info(self): Displays the information about the book, including its\n",
    "attributes and the number of available copies."
   ]
  },
  {
   "cell_type": "code",
   "execution_count": 15,
   "metadata": {},
   "outputs": [
    {
     "name": "stdout",
     "output_type": "stream",
     "text": [
      "Book Information:\n",
      "Title: The Great Gatsby\n",
      "Author: F. Scott Fitzgerald\n",
      "ISBN: 9780743273565\n",
      "Publication Year: 1925\n",
      "Available Copies: 3\n"
     ]
    }
   ],
   "source": [
    "\n",
    "class Book:\n",
    "    def __init__(self, title, author, isbn, publication_year, available_copies):\n",
    "        self.title = title\n",
    "        self.author = author\n",
    "        self.isbn = isbn\n",
    "        self.publication_year = publication_year\n",
    "        self.available_copies = available_copies\n",
    "\n",
    "    def check_out(self):\n",
    "        if self.available_copies > 0:\n",
    "            self.available_copies -= 1\n",
    "            print(f\"Book '{self.title}' checked out successfully.\")\n",
    "        else:\n",
    "            print(f\"No copies of '{self.title}' are currently available.\")\n",
    "\n",
    "    def return_book(self):\n",
    "        self.available_copies += 1\n",
    "        print(f\"Book '{self.title}' returned successfully.\")\n",
    "\n",
    "    def display_book_info(self):\n",
    "        print(\"Book Information:\")\n",
    "        print(f\"Title: {self.title}\")\n",
    "        print(f\"Author: {self.author}\")\n",
    "        print(f\"ISBN: {self.isbn}\")\n",
    "        print(f\"Publication Year: {self.publication_year}\")\n",
    "        print(f\"Available Copies: {self.available_copies}\")\n",
    "\n",
    "    B = Book(\"The Great Gatsby\", \"F. Scott Fitzgerald\", \"9780743273565\", 1925, 3)\n",
    "    B.display_book_info()"
   ]
  },
  {
   "cell_type": "markdown",
   "metadata": {},
   "source": [
    "8. For a ticket booking system, you have to design the \"Ticket\" class with OOP\n",
    "principles in mind. The “Ticket” class should have the following attributes:\n",
    "a. ticket_id: Represents the unique identifier for the ticket.\n",
    "b. event_name: Represents the name of the event.\n",
    "c. event_date: Represents the date of the event.\n",
    "d. venue: Represents the venue of the event.\n",
    "e. seat_number: Represents the seat number associated with the ticket.\n",
    "f. price: Represents the price of the ticket.\n",
    "g. is_reserved: Represents the reservation status of the ticket.\n",
    "The class also includes the following methods:\n",
    "a. reserve_ticket(self): Marks the ticket as reserved if it is not already reserved.\n",
    "b. cancel_reservation(self): Cancels the reservation of the ticket if it is already\n",
    "reserved.\n",
    "c. display_ticket_info(self): Displays the information about the ticket, including its\n",
    "attributes and reservation status."
   ]
  },
  {
   "cell_type": "code",
   "execution_count": 14,
   "metadata": {},
   "outputs": [
    {
     "name": "stdout",
     "output_type": "stream",
     "text": [
      "Ticket Information:\n",
      "Ticket ID: 1\n",
      "Event: Concert\n",
      "Customer: John Doe\n",
      "Seat: A1\n",
      "Price: $100\n",
      "Status: Active\n"
     ]
    }
   ],
   "source": [
    "class Ticket:\n",
    "    def __init__(self, ticket_id, event_name, customer_name, seat_number, price):\n",
    "        self.ticket_id = ticket_id\n",
    "        self.event_name = event_name\n",
    "        self.customer_name = customer_name\n",
    "        self.seat_number = seat_number\n",
    "        self.price = price\n",
    "        self.is_cancelled = False  # Add a status attribute\n",
    "\n",
    "    def cancel_ticket(self):\n",
    "        if not self.is_cancelled:\n",
    "            self.is_cancelled = True\n",
    "            print(f\"Ticket {self.ticket_id} for {self.event_name} has been cancelled.\")\n",
    "        else:\n",
    "            print(f\"Ticket {self.ticket_id} is already cancelled.\")\n",
    "    \n",
    "    def display_ticket_info(self):\n",
    "        print(\"Ticket Information:\")\n",
    "        print(f\"Ticket ID: {self.ticket_id}\")\n",
    "        print(f\"Event: {self.event_name}\")\n",
    "        print(f\"Customer: {self.customer_name}\")\n",
    "        print(f\"Seat: {self.seat_number}\")\n",
    "        print(f\"Price: ${self.price}\")\n",
    "        print(f\"Status: {'Cancelled' if self.is_cancelled else 'Active'}\") #added status\n",
    "\n",
    "T = Ticket(1, \"Concert\", \"John Doe\", \"A1\", 100)\n",
    "T.display_ticket_info()"
   ]
  },
  {
   "cell_type": "markdown",
   "metadata": {},
   "source": [
    "9. You are creating a shopping cart for an e-commerce website. Using OOP to model\n",
    "the \"ShoppingCart\" functionality the class should contain following attributes and\n",
    "methods:\n",
    "a. items: Represents the list of items in the shopping cart.\n",
    "The class also includes the following methods:\n",
    "\n",
    "a. add_item(self, item): Adds an item to the shopping cart by appending it to the\n",
    "list of items.\n",
    "b. remove_item(self, item): Removes an item from the shopping cart if it exists in\n",
    "the list.\n",
    "c. view_cart(self): Displays the items currently present in the shopping cart.\n",
    "d. clear_cart(self): Clears all items from the shopping cart by reassigning an\n",
    "empty list to the items attribute."
   ]
  },
  {
   "cell_type": "code",
   "execution_count": 8,
   "metadata": {},
   "outputs": [
    {
     "name": "stdout",
     "output_type": "stream",
     "text": [
      "'apple' added to the cart.\n"
     ]
    }
   ],
   "source": [
    "class ShoppingCart:\n",
    "    def __init__(self):\n",
    "        # print(\"object created\")\n",
    "        self.items = []\n",
    "\n",
    "    def add_item(self, item):\n",
    "        self.items.append(item)\n",
    "        print(f\"'{item}' added to the cart.\")\n",
    "\n",
    "    def remove_item(self, item):\n",
    "        if item in self.items:\n",
    "            self.items.remove(item)\n",
    "            print(f\"'{item}' removed from the cart.\")\n",
    "        else:\n",
    "            print(f\"'{item}' is not in the cart.\")\n",
    "\n",
    "    def view_cart(self):\n",
    "        if self.items:\n",
    "            print(\"Items in your cart:\")\n",
    "            for item in self.items:\n",
    "                print(f\"- {item}\")\n",
    "        else:\n",
    "            print(\"Your cart is empty.\")\n",
    "\n",
    "    def clear_cart(self):\n",
    "        self.items = []\n",
    "        print(\"Cart cleared.\")\n",
    "    \n",
    "A = ShoppingCart()\n",
    "A.add_item(\"apple\")\n",
    " \n"
   ]
  },
  {
   "cell_type": "markdown",
   "metadata": {},
   "source": [
    "10. Imagine a school management system. You have to design the \"Student\" class using\n",
    "OOP concepts.The “Student” class has the following attributes:\n",
    "a. name: Represents the name of the student.\n",
    "b. age: Represents the age of the student.\n",
    "c. grade: Represents the grade or class of the student.\n",
    "d. student_id: Represents the unique identifier for the student.\n",
    "e. attendance: Represents the attendance record of the student.\n",
    "The class should also include the following methods:\n",
    "a. update_attendance(self, date, status): Updates the attendance record of the\n",
    "student for a given date with the provided status (e.g., present or absent).\n",
    "b. get_attendance(self): Returns the attendance record of the student.\n",
    "c. get_average_attendance(self): Calculates and returns the average\n",
    "attendance percentage of the student based on their attendance record."
   ]
  },
  {
   "cell_type": "code",
   "execution_count": 12,
   "metadata": {},
   "outputs": [
    {
     "name": "stdout",
     "output_type": "stream",
     "text": [
      "Alice has enrolled in Math.\n"
     ]
    }
   ],
   "source": [
    "class Student:\n",
    "    def __init__(self, name, age, grade):\n",
    "        self.name = name\n",
    "        self.age = age\n",
    "        self.grade = grade\n",
    "        self.courses = []  # Added to store enrolled courses\n",
    "\n",
    "    def enroll_in_course(self, course_name):\n",
    "        self.courses.append(course_name)\n",
    "        print(f\"{self.name} has enrolled in {course_name}.\")\n",
    "\n",
    "    def drop_course(self, course_name):\n",
    "        if course_name in self.courses:\n",
    "            self.courses.remove(course_name)\n",
    "            print(f\"{self.name} has dropped {course_name}.\")\n",
    "        else:\n",
    "            print(f\"{self.name} is not enrolled in {course_name}.\")\n",
    "\n",
    "    def get_student_info(self):\n",
    "        print(\"Student Information:\")\n",
    "        print(f\"Name: {self.name}\")\n",
    "        print(f\"Age: {self.age}\")\n",
    "        print(f\"Grade: {self.grade}\")\n",
    "        if self.courses:\n",
    "            print(\"Enrolled Courses:\")\n",
    "            for course in self.courses:\n",
    "                print(f\"- {course}\")\n",
    "        else:\n",
    "            print(\"No courses enrolled yet.\")\n",
    "\n",
    "    S = Student(\"Alice\", 16, 11)\n",
    "    S.enroll_in_course(\"Math\")\n"
   ]
  }
 ],
 "metadata": {
  "kernelspec": {
   "display_name": "Python 3",
   "language": "python",
   "name": "python3"
  },
  "language_info": {
   "codemirror_mode": {
    "name": "ipython",
    "version": 3
   },
   "file_extension": ".py",
   "mimetype": "text/x-python",
   "name": "python",
   "nbconvert_exporter": "python",
   "pygments_lexer": "ipython3",
   "version": "3.12.3"
  }
 },
 "nbformat": 4,
 "nbformat_minor": 2
}
